{
  "nbformat": 4,
  "nbformat_minor": 0,
  "metadata": {
    "colab": {
      "name": "Covid19_spain_datasetAnalysis.ipynb",
      "provenance": []
    },
    "kernelspec": {
      "name": "python3",
      "display_name": "Python 3"
    },
    "language_info": {
      "name": "python"
    }
  },
  "cells": [
    {
      "cell_type": "markdown",
      "source": [
        "Mounting GDrive file to colab"
      ],
      "metadata": {
        "id": "f3dRvXadj4_d"
      }
    },
    {
      "cell_type": "code",
      "source": [
        "# from google.colab import drive\n",
        "# drive.mount('/content/drive')"
      ],
      "metadata": {
        "id": "ynFZ_6Fcj3yk"
      },
      "execution_count": 17,
      "outputs": []
    },
    {
      "cell_type": "markdown",
      "source": [
        "Agenda: Assignment 2 DAY4 Hello Everyone, Here is your assignment 2 for the COVID-19 Spain dataset. You need to perform Univariate, Bivariate, PDF, and CDF analysis. https://www.kaggle.com/asarvazyan/covid19-spain-dataset Be precise with your statements and write them clearly. :=) Best of luck. \n"
      ],
      "metadata": {
        "id": "Svepo9Kbg-KK"
      }
    },
    {
      "cell_type": "markdown",
      "source": [
        "Reading COVID 19 spain dataset using pandas "
      ],
      "metadata": {
        "id": "6m_CxcxyVNff"
      }
    },
    {
      "cell_type": "code",
      "source": [
        "# Importing required libraries.\n",
        "import pandas as pd\n",
        "import numpy as np\n",
        "import seaborn as sns #visualisation\n",
        "import matplotlib.pyplot as plt #visualisation\n",
        "%matplotlib inline \n",
        "sns.set(color_codes=True)"
      ],
      "metadata": {
        "id": "PqrSzMXKaOuP"
      },
      "execution_count": 18,
      "outputs": []
    },
    {
      "cell_type": "code",
      "source": [
        "\n",
        "df=pd.read_csv('/content/drive/My Drive/GC/Covid19_dataset/casos_hosp_uci_def_sexo_edad_provres.csv')"
      ],
      "metadata": {
        "id": "j6yhOJvnTMoe"
      },
      "execution_count": 29,
      "outputs": []
    },
    {
      "cell_type": "code",
      "source": [
        "df.info()"
      ],
      "metadata": {
        "colab": {
          "base_uri": "https://localhost:8080/"
        },
        "id": "CYOyEyjHZOux",
        "outputId": "3f70be18-c85e-4ab9-c0b8-7a08d2395a38"
      },
      "execution_count": 30,
      "outputs": [
        {
          "output_type": "stream",
          "name": "stdout",
          "text": [
            "<class 'pandas.core.frame.DataFrame'>\n",
            "RangeIndex: 1225890 entries, 0 to 1225889\n",
            "Data columns (total 8 columns):\n",
            " #   Column         Non-Null Count    Dtype \n",
            "---  ------         --------------    ----- \n",
            " 0   provincia_iso  1202760 non-null  object\n",
            " 1   sexo           1225890 non-null  object\n",
            " 2   grupo_edad     1225890 non-null  object\n",
            " 3   fecha          1225890 non-null  object\n",
            " 4   num_casos      1225890 non-null  int64 \n",
            " 5   num_hosp       1225890 non-null  int64 \n",
            " 6   num_uci        1225890 non-null  int64 \n",
            " 7   num_def        1225890 non-null  int64 \n",
            "dtypes: int64(4), object(4)\n",
            "memory usage: 74.8+ MB\n"
          ]
        }
      ]
    },
    {
      "cell_type": "markdown",
      "source": [
        "here this dataset has:\n",
        "1225890 rows,  and\n",
        "8 columns with no-null values"
      ],
      "metadata": {
        "id": "CdYwQLICW3zc"
      }
    },
    {
      "cell_type": "code",
      "source": [
        "# Getting the info for top 5 values\n",
        "df.head(5)"
      ],
      "metadata": {
        "colab": {
          "base_uri": "https://localhost:8080/",
          "height": 206
        },
        "id": "DyLnfDvACbsc",
        "outputId": "ceb8ccdb-daba-47ed-94dc-e0f8ab8b0fd7"
      },
      "execution_count": 86,
      "outputs": [
        {
          "output_type": "execute_result",
          "data": {
            "text/html": [
              "\n",
              "  <div id=\"df-e48aeec4-c676-4677-95cd-1472949db336\">\n",
              "    <div class=\"colab-df-container\">\n",
              "      <div>\n",
              "<style scoped>\n",
              "    .dataframe tbody tr th:only-of-type {\n",
              "        vertical-align: middle;\n",
              "    }\n",
              "\n",
              "    .dataframe tbody tr th {\n",
              "        vertical-align: top;\n",
              "    }\n",
              "\n",
              "    .dataframe thead th {\n",
              "        text-align: right;\n",
              "    }\n",
              "</style>\n",
              "<table border=\"1\" class=\"dataframe\">\n",
              "  <thead>\n",
              "    <tr style=\"text-align: right;\">\n",
              "      <th></th>\n",
              "      <th>provincia_iso</th>\n",
              "      <th>sexo</th>\n",
              "      <th>grupo_edad</th>\n",
              "      <th>fecha</th>\n",
              "      <th>num_casos</th>\n",
              "      <th>num_hosp</th>\n",
              "      <th>num_uci</th>\n",
              "      <th>num_def</th>\n",
              "    </tr>\n",
              "  </thead>\n",
              "  <tbody>\n",
              "    <tr>\n",
              "      <th>0</th>\n",
              "      <td>A</td>\n",
              "      <td>H</td>\n",
              "      <td>0-9</td>\n",
              "      <td>2020-01-01</td>\n",
              "      <td>0</td>\n",
              "      <td>0</td>\n",
              "      <td>0</td>\n",
              "      <td>0</td>\n",
              "    </tr>\n",
              "    <tr>\n",
              "      <th>1</th>\n",
              "      <td>A</td>\n",
              "      <td>H</td>\n",
              "      <td>10-19</td>\n",
              "      <td>2020-01-01</td>\n",
              "      <td>0</td>\n",
              "      <td>0</td>\n",
              "      <td>0</td>\n",
              "      <td>0</td>\n",
              "    </tr>\n",
              "    <tr>\n",
              "      <th>2</th>\n",
              "      <td>A</td>\n",
              "      <td>H</td>\n",
              "      <td>20-29</td>\n",
              "      <td>2020-01-01</td>\n",
              "      <td>0</td>\n",
              "      <td>0</td>\n",
              "      <td>0</td>\n",
              "      <td>0</td>\n",
              "    </tr>\n",
              "    <tr>\n",
              "      <th>3</th>\n",
              "      <td>A</td>\n",
              "      <td>H</td>\n",
              "      <td>30-39</td>\n",
              "      <td>2020-01-01</td>\n",
              "      <td>0</td>\n",
              "      <td>0</td>\n",
              "      <td>0</td>\n",
              "      <td>0</td>\n",
              "    </tr>\n",
              "    <tr>\n",
              "      <th>4</th>\n",
              "      <td>A</td>\n",
              "      <td>H</td>\n",
              "      <td>40-49</td>\n",
              "      <td>2020-01-01</td>\n",
              "      <td>0</td>\n",
              "      <td>0</td>\n",
              "      <td>0</td>\n",
              "      <td>0</td>\n",
              "    </tr>\n",
              "  </tbody>\n",
              "</table>\n",
              "</div>\n",
              "      <button class=\"colab-df-convert\" onclick=\"convertToInteractive('df-e48aeec4-c676-4677-95cd-1472949db336')\"\n",
              "              title=\"Convert this dataframe to an interactive table.\"\n",
              "              style=\"display:none;\">\n",
              "        \n",
              "  <svg xmlns=\"http://www.w3.org/2000/svg\" height=\"24px\"viewBox=\"0 0 24 24\"\n",
              "       width=\"24px\">\n",
              "    <path d=\"M0 0h24v24H0V0z\" fill=\"none\"/>\n",
              "    <path d=\"M18.56 5.44l.94 2.06.94-2.06 2.06-.94-2.06-.94-.94-2.06-.94 2.06-2.06.94zm-11 1L8.5 8.5l.94-2.06 2.06-.94-2.06-.94L8.5 2.5l-.94 2.06-2.06.94zm10 10l.94 2.06.94-2.06 2.06-.94-2.06-.94-.94-2.06-.94 2.06-2.06.94z\"/><path d=\"M17.41 7.96l-1.37-1.37c-.4-.4-.92-.59-1.43-.59-.52 0-1.04.2-1.43.59L10.3 9.45l-7.72 7.72c-.78.78-.78 2.05 0 2.83L4 21.41c.39.39.9.59 1.41.59.51 0 1.02-.2 1.41-.59l7.78-7.78 2.81-2.81c.8-.78.8-2.07 0-2.86zM5.41 20L4 18.59l7.72-7.72 1.47 1.35L5.41 20z\"/>\n",
              "  </svg>\n",
              "      </button>\n",
              "      \n",
              "  <style>\n",
              "    .colab-df-container {\n",
              "      display:flex;\n",
              "      flex-wrap:wrap;\n",
              "      gap: 12px;\n",
              "    }\n",
              "\n",
              "    .colab-df-convert {\n",
              "      background-color: #E8F0FE;\n",
              "      border: none;\n",
              "      border-radius: 50%;\n",
              "      cursor: pointer;\n",
              "      display: none;\n",
              "      fill: #1967D2;\n",
              "      height: 32px;\n",
              "      padding: 0 0 0 0;\n",
              "      width: 32px;\n",
              "    }\n",
              "\n",
              "    .colab-df-convert:hover {\n",
              "      background-color: #E2EBFA;\n",
              "      box-shadow: 0px 1px 2px rgba(60, 64, 67, 0.3), 0px 1px 3px 1px rgba(60, 64, 67, 0.15);\n",
              "      fill: #174EA6;\n",
              "    }\n",
              "\n",
              "    [theme=dark] .colab-df-convert {\n",
              "      background-color: #3B4455;\n",
              "      fill: #D2E3FC;\n",
              "    }\n",
              "\n",
              "    [theme=dark] .colab-df-convert:hover {\n",
              "      background-color: #434B5C;\n",
              "      box-shadow: 0px 1px 3px 1px rgba(0, 0, 0, 0.15);\n",
              "      filter: drop-shadow(0px 1px 2px rgba(0, 0, 0, 0.3));\n",
              "      fill: #FFFFFF;\n",
              "    }\n",
              "  </style>\n",
              "\n",
              "      <script>\n",
              "        const buttonEl =\n",
              "          document.querySelector('#df-e48aeec4-c676-4677-95cd-1472949db336 button.colab-df-convert');\n",
              "        buttonEl.style.display =\n",
              "          google.colab.kernel.accessAllowed ? 'block' : 'none';\n",
              "\n",
              "        async function convertToInteractive(key) {\n",
              "          const element = document.querySelector('#df-e48aeec4-c676-4677-95cd-1472949db336');\n",
              "          const dataTable =\n",
              "            await google.colab.kernel.invokeFunction('convertToInteractive',\n",
              "                                                     [key], {});\n",
              "          if (!dataTable) return;\n",
              "\n",
              "          const docLinkHtml = 'Like what you see? Visit the ' +\n",
              "            '<a target=\"_blank\" href=https://colab.research.google.com/notebooks/data_table.ipynb>data table notebook</a>'\n",
              "            + ' to learn more about interactive tables.';\n",
              "          element.innerHTML = '';\n",
              "          dataTable['output_type'] = 'display_data';\n",
              "          await google.colab.output.renderOutput(dataTable, element);\n",
              "          const docLink = document.createElement('div');\n",
              "          docLink.innerHTML = docLinkHtml;\n",
              "          element.appendChild(docLink);\n",
              "        }\n",
              "      </script>\n",
              "    </div>\n",
              "  </div>\n",
              "  "
            ],
            "text/plain": [
              "  provincia_iso sexo grupo_edad  ... num_hosp  num_uci  num_def\n",
              "0             A    H        0-9  ...        0        0        0\n",
              "1             A    H      10-19  ...        0        0        0\n",
              "2             A    H      20-29  ...        0        0        0\n",
              "3             A    H      30-39  ...        0        0        0\n",
              "4             A    H      40-49  ...        0        0        0\n",
              "\n",
              "[5 rows x 8 columns]"
            ]
          },
          "metadata": {},
          "execution_count": 86
        }
      ]
    },
    {
      "cell_type": "code",
      "source": [
        "# Getting the info for bottom 5 values\n",
        "df.tail()"
      ],
      "metadata": {
        "colab": {
          "base_uri": "https://localhost:8080/",
          "height": 206
        },
        "id": "xs5yj-9PCq2u",
        "outputId": "ceb718ae-a6d3-4de6-fc4b-69c3169705c2"
      },
      "execution_count": 83,
      "outputs": [
        {
          "output_type": "execute_result",
          "data": {
            "text/html": [
              "\n",
              "  <div id=\"df-28dbae70-8b6c-4474-8145-445c43e35cac\">\n",
              "    <div class=\"colab-df-container\">\n",
              "      <div>\n",
              "<style scoped>\n",
              "    .dataframe tbody tr th:only-of-type {\n",
              "        vertical-align: middle;\n",
              "    }\n",
              "\n",
              "    .dataframe tbody tr th {\n",
              "        vertical-align: top;\n",
              "    }\n",
              "\n",
              "    .dataframe thead th {\n",
              "        text-align: right;\n",
              "    }\n",
              "</style>\n",
              "<table border=\"1\" class=\"dataframe\">\n",
              "  <thead>\n",
              "    <tr style=\"text-align: right;\">\n",
              "      <th></th>\n",
              "      <th>provincia_iso</th>\n",
              "      <th>sexo</th>\n",
              "      <th>grupo_edad</th>\n",
              "      <th>fecha</th>\n",
              "      <th>num_casos</th>\n",
              "      <th>num_hosp</th>\n",
              "      <th>num_uci</th>\n",
              "      <th>num_def</th>\n",
              "    </tr>\n",
              "  </thead>\n",
              "  <tbody>\n",
              "    <tr>\n",
              "      <th>1225885</th>\n",
              "      <td>ZA</td>\n",
              "      <td>NC</td>\n",
              "      <td>50-59</td>\n",
              "      <td>2022-02-09</td>\n",
              "      <td>0</td>\n",
              "      <td>0</td>\n",
              "      <td>0</td>\n",
              "      <td>0</td>\n",
              "    </tr>\n",
              "    <tr>\n",
              "      <th>1225886</th>\n",
              "      <td>ZA</td>\n",
              "      <td>NC</td>\n",
              "      <td>60-69</td>\n",
              "      <td>2022-02-09</td>\n",
              "      <td>0</td>\n",
              "      <td>0</td>\n",
              "      <td>0</td>\n",
              "      <td>0</td>\n",
              "    </tr>\n",
              "    <tr>\n",
              "      <th>1225887</th>\n",
              "      <td>ZA</td>\n",
              "      <td>NC</td>\n",
              "      <td>70-79</td>\n",
              "      <td>2022-02-09</td>\n",
              "      <td>0</td>\n",
              "      <td>0</td>\n",
              "      <td>0</td>\n",
              "      <td>0</td>\n",
              "    </tr>\n",
              "    <tr>\n",
              "      <th>1225888</th>\n",
              "      <td>ZA</td>\n",
              "      <td>NC</td>\n",
              "      <td>80+</td>\n",
              "      <td>2022-02-09</td>\n",
              "      <td>0</td>\n",
              "      <td>0</td>\n",
              "      <td>0</td>\n",
              "      <td>0</td>\n",
              "    </tr>\n",
              "    <tr>\n",
              "      <th>1225889</th>\n",
              "      <td>ZA</td>\n",
              "      <td>NC</td>\n",
              "      <td>NC</td>\n",
              "      <td>2022-02-09</td>\n",
              "      <td>0</td>\n",
              "      <td>0</td>\n",
              "      <td>0</td>\n",
              "      <td>0</td>\n",
              "    </tr>\n",
              "  </tbody>\n",
              "</table>\n",
              "</div>\n",
              "      <button class=\"colab-df-convert\" onclick=\"convertToInteractive('df-28dbae70-8b6c-4474-8145-445c43e35cac')\"\n",
              "              title=\"Convert this dataframe to an interactive table.\"\n",
              "              style=\"display:none;\">\n",
              "        \n",
              "  <svg xmlns=\"http://www.w3.org/2000/svg\" height=\"24px\"viewBox=\"0 0 24 24\"\n",
              "       width=\"24px\">\n",
              "    <path d=\"M0 0h24v24H0V0z\" fill=\"none\"/>\n",
              "    <path d=\"M18.56 5.44l.94 2.06.94-2.06 2.06-.94-2.06-.94-.94-2.06-.94 2.06-2.06.94zm-11 1L8.5 8.5l.94-2.06 2.06-.94-2.06-.94L8.5 2.5l-.94 2.06-2.06.94zm10 10l.94 2.06.94-2.06 2.06-.94-2.06-.94-.94-2.06-.94 2.06-2.06.94z\"/><path d=\"M17.41 7.96l-1.37-1.37c-.4-.4-.92-.59-1.43-.59-.52 0-1.04.2-1.43.59L10.3 9.45l-7.72 7.72c-.78.78-.78 2.05 0 2.83L4 21.41c.39.39.9.59 1.41.59.51 0 1.02-.2 1.41-.59l7.78-7.78 2.81-2.81c.8-.78.8-2.07 0-2.86zM5.41 20L4 18.59l7.72-7.72 1.47 1.35L5.41 20z\"/>\n",
              "  </svg>\n",
              "      </button>\n",
              "      \n",
              "  <style>\n",
              "    .colab-df-container {\n",
              "      display:flex;\n",
              "      flex-wrap:wrap;\n",
              "      gap: 12px;\n",
              "    }\n",
              "\n",
              "    .colab-df-convert {\n",
              "      background-color: #E8F0FE;\n",
              "      border: none;\n",
              "      border-radius: 50%;\n",
              "      cursor: pointer;\n",
              "      display: none;\n",
              "      fill: #1967D2;\n",
              "      height: 32px;\n",
              "      padding: 0 0 0 0;\n",
              "      width: 32px;\n",
              "    }\n",
              "\n",
              "    .colab-df-convert:hover {\n",
              "      background-color: #E2EBFA;\n",
              "      box-shadow: 0px 1px 2px rgba(60, 64, 67, 0.3), 0px 1px 3px 1px rgba(60, 64, 67, 0.15);\n",
              "      fill: #174EA6;\n",
              "    }\n",
              "\n",
              "    [theme=dark] .colab-df-convert {\n",
              "      background-color: #3B4455;\n",
              "      fill: #D2E3FC;\n",
              "    }\n",
              "\n",
              "    [theme=dark] .colab-df-convert:hover {\n",
              "      background-color: #434B5C;\n",
              "      box-shadow: 0px 1px 3px 1px rgba(0, 0, 0, 0.15);\n",
              "      filter: drop-shadow(0px 1px 2px rgba(0, 0, 0, 0.3));\n",
              "      fill: #FFFFFF;\n",
              "    }\n",
              "  </style>\n",
              "\n",
              "      <script>\n",
              "        const buttonEl =\n",
              "          document.querySelector('#df-28dbae70-8b6c-4474-8145-445c43e35cac button.colab-df-convert');\n",
              "        buttonEl.style.display =\n",
              "          google.colab.kernel.accessAllowed ? 'block' : 'none';\n",
              "\n",
              "        async function convertToInteractive(key) {\n",
              "          const element = document.querySelector('#df-28dbae70-8b6c-4474-8145-445c43e35cac');\n",
              "          const dataTable =\n",
              "            await google.colab.kernel.invokeFunction('convertToInteractive',\n",
              "                                                     [key], {});\n",
              "          if (!dataTable) return;\n",
              "\n",
              "          const docLinkHtml = 'Like what you see? Visit the ' +\n",
              "            '<a target=\"_blank\" href=https://colab.research.google.com/notebooks/data_table.ipynb>data table notebook</a>'\n",
              "            + ' to learn more about interactive tables.';\n",
              "          element.innerHTML = '';\n",
              "          dataTable['output_type'] = 'display_data';\n",
              "          await google.colab.output.renderOutput(dataTable, element);\n",
              "          const docLink = document.createElement('div');\n",
              "          docLink.innerHTML = docLinkHtml;\n",
              "          element.appendChild(docLink);\n",
              "        }\n",
              "      </script>\n",
              "    </div>\n",
              "  </div>\n",
              "  "
            ],
            "text/plain": [
              "        provincia_iso sexo grupo_edad  ... num_hosp  num_uci  num_def\n",
              "1225885            ZA   NC      50-59  ...        0        0        0\n",
              "1225886            ZA   NC      60-69  ...        0        0        0\n",
              "1225887            ZA   NC      70-79  ...        0        0        0\n",
              "1225888            ZA   NC        80+  ...        0        0        0\n",
              "1225889            ZA   NC         NC  ...        0        0        0\n",
              "\n",
              "[5 rows x 8 columns]"
            ]
          },
          "metadata": {},
          "execution_count": 83
        }
      ]
    },
    {
      "cell_type": "markdown",
      "source": [
        "**UNIVARIATE ANALYISIS:~**"
      ],
      "metadata": {
        "id": "wBn6d-hVhM8r"
      }
    },
    {
      "cell_type": "markdown",
      "source": [
        "**Univariate Analysis-** type of data which works one variable and is the simple type of analysis. Specific patterns can be easily identified with univariate analysis are Central Tendency (mean, mode and median), Dispersion (range, variance), Quartiles (interquartile range), and Standard deviation."
      ],
      "metadata": {
        "id": "jfC87U7bWSzw"
      }
    },
    {
      "cell_type": "code",
      "source": [
        "sns.histplot(df['sexo'],bins=2, edgecolor=\"black\", color=\"green\");"
      ],
      "metadata": {
        "id": "KXBJxrSaWYiA",
        "colab": {
          "base_uri": "https://localhost:8080/",
          "height": 285
        },
        "outputId": "515dc509-7609-494c-beb8-1ab699c902b2"
      },
      "execution_count": 55,
      "outputs": [
        {
          "output_type": "display_data",
          "data": {
            "image/png": "[encoded data removed]",
            "text/plain": [
              "<Figure size 432x288 with 1 Axes>"
            ]
          },
          "metadata": {}
        }
      ]
    },
    {
      "cell_type": "code",
      "source": [
        "#Get count of  different sex values in a categorical variable\n",
        "df.sexo.value_counts()"
      ],
      "metadata": {
        "colab": {
          "base_uri": "https://localhost:8080/"
        },
        "id": "VI-wH7JtmqCr",
        "outputId": "ec9ca64a-09bb-492d-f3c4-9b8c0db7a404"
      },
      "execution_count": 32,
      "outputs": [
        {
          "output_type": "execute_result",
          "data": {
            "text/plain": [
              "H     408630\n",
              "M     408630\n",
              "NC    408630\n",
              "Name: sexo, dtype: int64"
            ]
          },
          "metadata": {},
          "execution_count": 32
        }
      ]
    },
    {
      "cell_type": "markdown",
      "source": [
        "Univariate Analysing dataset using histogram with respect to column \"sexo\" using bins parameter, which has H= ~4LAKH; M= ~4LAKH; NC = ~4LAKH."
      ],
      "metadata": {
        "id": "VtXaSj1CafcD"
      }
    },
    {
      "cell_type": "code",
      "source": [
        "plt.hist(df[\"grupo_edad\"], bins=10)"
      ],
      "metadata": {
        "colab": {
          "base_uri": "https://localhost:8080/",
          "height": 337
        },
        "id": "sR5sohQIdLIj",
        "outputId": "5e57218a-1e53-49cd-c8be-718ae5402f56"
      },
      "execution_count": 44,
      "outputs": [
        {
          "output_type": "execute_result",
          "data": {
            "text/plain": [
              "(array([122589., 122589., 122589., 122589., 122589., 122589., 122589.,\n",
              "        122589., 122589., 122589.]),\n",
              " array([0. , 0.9, 1.8, 2.7, 3.6, 4.5, 5.4, 6.3, 7.2, 8.1, 9. ]),\n",
              " <a list of 10 Patch objects>)"
            ]
          },
          "metadata": {},
          "execution_count": 44
        },
        {
          "output_type": "display_data",
          "data": {
            "image/png": "[encoded data removed]",
            "text/plain": [
              "<Figure size 432x288 with 1 Axes>"
            ]
          },
          "metadata": {}
        }
      ]
    },
    {
      "cell_type": "markdown",
      "source": [
        "Univariate Analysing dataset using histogram with respect to column \"grupo_edad\" "
      ],
      "metadata": {
        "id": "znswd5xidVT0"
      }
    },
    {
      "cell_type": "markdown",
      "source": [
        "Univariate Analysing dataset using histogram with respect to column \"num_def\""
      ],
      "metadata": {
        "id": "L-ZF1Zxjd4_B"
      }
    },
    {
      "cell_type": "markdown",
      "source": [
        "**BIVARIATE ANALYISIS**"
      ],
      "metadata": {
        "id": "QJyyrUILhodY"
      }
    },
    {
      "cell_type": "code",
      "source": [
        "# Performing Bivariate Analysis using Scatter plot on feature -num_casos and  num_hosp\n",
        "plt.scatter(df.num_casos, df.num_hosp, edgecolor=\"black\", color=\"red\")\n",
        "plt.title('corelation between num_hosp and num_casos')\n",
        "plt.xlabel('num_casos')\n",
        "plt.ylabel('num_hosp')"
      ],
      "metadata": {
        "colab": {
          "base_uri": "https://localhost:8080/",
          "height": 318
        },
        "id": "layV7P3uhwyU",
        "outputId": "ffb42f20-66e5-4dcd-b793-4abbf9eaac05"
      },
      "execution_count": 61,
      "outputs": [
        {
          "output_type": "execute_result",
          "data": {
            "text/plain": [
              "Text(0, 0.5, 'num_hosp')"
            ]
          },
          "metadata": {},
          "execution_count": 61
        },
        {
          "output_type": "display_data",
          "data": {
            "image/png": "[encoded data removed]",
            "text/plain": [
              "<Figure size 432x288 with 1 Axes>"
            ]
          },
          "metadata": {}
        }
      ]
    },
    {
      "cell_type": "markdown",
      "source": [
        "In Bivariate Analysis, we work on two variables to find the corelations between two features"
      ],
      "metadata": {
        "id": "OtPhtBEEqdkM"
      }
    },
    {
      "cell_type": "code",
      "source": [
        "# Performing Bivariate Analysis using Scatter plot on feature -num_casos and sexo\n",
        "plt.scatter(df.sexo, df.num_casos)\n",
        "plt.title('Corelation between sexo and num_casos')\n",
        "plt.xlabel('sexo')\n",
        "plt.ylabel('num_casos')"
      ],
      "metadata": {
        "id": "4e9YcRG0iLom",
        "colab": {
          "base_uri": "https://localhost:8080/",
          "height": 318
        },
        "outputId": "abff7636-bdba-4577-d854-c1e720454bae"
      },
      "execution_count": 43,
      "outputs": [
        {
          "output_type": "execute_result",
          "data": {
            "text/plain": [
              "Text(0, 0.5, 'num_casos')"
            ]
          },
          "metadata": {},
          "execution_count": 43
        },
        {
          "output_type": "display_data",
          "data": {
            "image/png": "[encoded data removed]",
            "text/plain": [
              "<Figure size 432x288 with 1 Axes>"
            ]
          },
          "metadata": {}
        }
      ]
    },
    {
      "cell_type": "markdown",
      "source": [
        "So here we got that the relation for no. of cases between 3 variates (H, M, NC) where; H>M>NC "
      ],
      "metadata": {
        "id": "u7GJFaNWsKqp"
      }
    },
    {
      "cell_type": "markdown",
      "source": [
        "**PROBABLITY DISTIRBUTION FREQUENCY & CUMULATIVE DISTRIBUTION FREQUENCY**"
      ],
      "metadata": {
        "id": "4aQbzSbBxWqg"
      }
    },
    {
      "cell_type": "code",
      "source": [
        "# Calculating No of Data points for respective dataset\n",
        "\n",
        "df['num_casos'].count()\n"
      ],
      "metadata": {
        "colab": {
          "base_uri": "https://localhost:8080/"
        },
        "id": "N1qwceLZ-CVF",
        "outputId": "4ca6a2fb-f16a-4527-aa4e-36b7bb709ee5"
      },
      "execution_count": 81,
      "outputs": [
        {
          "output_type": "execute_result",
          "data": {
            "text/plain": [
              "1225890"
            ]
          },
          "metadata": {},
          "execution_count": 81
        }
      ]
    },
    {
      "cell_type": "markdown",
      "source": [
        "hence from above counting we got total 1225890-2 = 1225888 data points for calculating PDF/ CDF for the respective dataframe"
      ],
      "metadata": {
        "id": "QjvhQcyk-6ck"
      }
    },
    {
      "cell_type": "markdown",
      "source": [
        "Putting N=1225888"
      ],
      "metadata": {
        "id": "TzxByYrA_UNX"
      }
    },
    {
      "cell_type": "code",
      "source": [
        "N=1225888\n",
        "# initializing random values\n",
        "data = np.random.randn(N)\n",
        "  \n",
        "# getting data of the histogram\n",
        "count, bins_count = np.histogram(data, bins=10)\n",
        "  \n",
        "# finding the PDF of the histogram using count values\n",
        "pdf = count / sum(count)\n",
        "  \n",
        "# using numpy np.cumsum to calculating the CDF\n",
        "cdf = np.cumsum(pdf)\n",
        "  \n",
        "# plotting PDF and CDF\n",
        "plt.plot(bins_count[1:], pdf, color=\"red\", label=\"PDF\")\n",
        "plt.plot(bins_count[1:], cdf, label=\"CDF\")\n",
        "plt.legend()"
      ],
      "metadata": {
        "colab": {
          "base_uri": "https://localhost:8080/",
          "height": 285
        },
        "id": "j60aZni7rjeu",
        "outputId": "a228814f-1175-48e4-e1ba-a40270128726"
      },
      "execution_count": 80,
      "outputs": [
        {
          "output_type": "execute_result",
          "data": {
            "text/plain": [
              "<matplotlib.legend.Legend at 0x7f0003a2ba10>"
            ]
          },
          "metadata": {},
          "execution_count": 80
        },
        {
          "output_type": "display_data",
          "data": {
            "image/png": "[encoded data removed]",
            "text/plain": [
              "<Figure size 432x288 with 1 Axes>"
            ]
          },
          "metadata": {}
        }
      ]
    },
    {
      "cell_type": "code",
      "source": [
        ""
      ],
      "metadata": {
        "id": "lFZYFbrC0-Se"
      },
      "execution_count": null,
      "outputs": []
    }
  ]
}